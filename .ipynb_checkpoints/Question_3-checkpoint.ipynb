{
 "cells": [
  {
   "cell_type": "code",
   "execution_count": 4,
   "metadata": {},
   "outputs": [
    {
     "name": "stdout",
     "output_type": "stream",
     "text": [
      "\n",
      "H2O is not running yet, starting it now...\n",
      "\n",
      "Note:  In case of errors look at the following log files:\n",
      "    C:\\Users\\Shantanu\\AppData\\Local\\Temp\\RtmpQP7hqk\\file118c2aa12a61/h2o_Shantanu_started_from_r.out\n",
      "    C:\\Users\\Shantanu\\AppData\\Local\\Temp\\RtmpQP7hqk\\file118c1bfb1773/h2o_Shantanu_started_from_r.err\n",
      "\n",
      "\n",
      "Starting H2O JVM and connecting: ............................................................Diagnostic HTTP Request:\n",
      "   HTTP Status Code: -1\n",
      "HTTP Error Message: Failed to connect to localhost port 54321: Connection refused\n",
      " \n",
      "Error Output:\n",
      "   Only Java 8, 9, 10, 11, 12 and 13 are supported, system version is 14.0.1 \n"
     ]
    },
    {
     "ename": "ERROR",
     "evalue": "Error in h2o.init(nthreads = -1, port = 54321, max_mem_size = NULL, startH2O = TRUE): H2O failed to start, stopping execution.\n",
     "output_type": "error",
     "traceback": [
      "Error in h2o.init(nthreads = -1, port = 54321, max_mem_size = NULL, startH2O = TRUE): H2O failed to start, stopping execution.\nTraceback:\n",
      "1. h2o.init(nthreads = -1, port = 54321, max_mem_size = NULL, startH2O = TRUE)",
      "2. stop(\"H2O failed to start, stopping execution.\")"
     ]
    }
   ],
   "source": [
    "error.rate <- function(Y1, T1){\n",
    "  if (nrow(Y1)!=nrow(T1)){\n",
    "    stop('error.rate: size of true lables and predicted labels mismatch')\n",
    "  }\n",
    "  return (sum(T1!=Y1)/nrow(T1))\n",
    "}\n",
    "\n",
    "##########################\n",
    "options(warn=-1)\n",
    "library(h2o)\n",
    "#If there is a proxy: proxy.old <- Sys.getenv('http_proxy'); Sys.setenv('http_proxy'='');\n",
    "#localH2O =  h2o.init(nthreads = -1, port = 54321, max_mem_size = NULL , startH2O = TRUE)\n",
    "localH2O =  h2o.init(nthreads = -1, port = 54321, startH2O = FALSE)\n",
    "\n",
    "\n",
    "labeled.frame <- h2o.importFile(path = 'Task2C_labeled.csv' ,sep=',') \n",
    "unlabeled.frame <- h2o.importFile(path = 'Task2C_unlabeled.csv' ,sep=',') \n",
    "test.frame <- h2o.importFile(path = 'Task2C_test.csv' , sep=',') \n",
    "\n",
    "labeled.frame[,1] <- as.factor(labeled.frame$label)\n",
    "unlabeled.frame[,1] <- NA\n",
    "train.frame <- h2o.rbind(labeled.frame[,-1], unlabeled.frame[,-1])\n",
    "test.frame[,1] <- as.factor(test.frame$label)"
   ]
  },
  {
   "cell_type": "code",
   "execution_count": null,
   "metadata": {},
   "outputs": [],
   "source": [
    "reconstruction.train.error <- matrix(NA, nrow=20, ncol=1)\n",
    "classification.labeled.error <- matrix(NA, nrow=20, ncol=1)\n",
    "\n",
    "reconstruction.test.error <- matrix(NA, nrow=20, ncol=1)\n",
    "classification.test.error <- matrix(NA, nrow=20, ncol=1)"
   ]
  },
  {
   "cell_type": "markdown",
   "metadata": {},
   "source": [
    "## Autoencoder"
   ]
  },
  {
   "cell_type": "code",
   "execution_count": null,
   "metadata": {},
   "outputs": [],
   "source": [
    "ctr = 1\n",
    "for (k in seq(20, 500, 20)){\n",
    "  \n",
    "Neural_netwrk <- h2o.deeplearning(\n",
    "x = 2:ncol(labelled.frame),\n",
    "    \n",
    "    training_frame = labeled.frame,\n",
    "    hidden = c(k)\n",
    "    epochs = 50\n",
    "    activation = 'Tanh'\n",
    "    autoencoder =TRUE\n",
    "    l2 = 0.1\n",
    ")\n",
    "    reconstruction.train.error[ctr] = sum(h2o.anomaly(Neural_netwrk,labeled.frame))\n",
    "    ctr = ctr + 1\n",
    "}\n"
   ]
  },
  {
   "cell_type": "code",
   "execution_count": 3,
   "metadata": {},
   "outputs": [
    {
     "name": "stdout",
     "output_type": "stream",
     "text": [
      "\n",
      "H2O is not running yet, starting it now...\n",
      "\n",
      "Note:  In case of errors look at the following log files:\n",
      "    C:\\Users\\Shantanu\\AppData\\Local\\Temp\\RtmpQP7hqk\\file118c58234fb2/h2o_Shantanu_started_from_r.out\n",
      "    C:\\Users\\Shantanu\\AppData\\Local\\Temp\\RtmpQP7hqk\\file118c22743ab7/h2o_Shantanu_started_from_r.err\n",
      "\n",
      "\n",
      "Starting H2O JVM and connecting: ............................................................Diagnostic HTTP Request:\n",
      "   HTTP Status Code: -1\n",
      "HTTP Error Message: Failed to connect to localhost port 54321: Connection refused\n",
      " \n",
      "Error Output:\n",
      "   Only Java 8, 9, 10, 11, 12 and 13 are supported, system version is 14.0.1 \n"
     ]
    },
    {
     "ename": "ERROR",
     "evalue": "Error in h2o.init(ip = \"localhost\", nthreads = -1, port = 54321, max_mem_size = \"6G\", : H2O failed to start, stopping execution.\n",
     "output_type": "error",
     "traceback": [
      "Error in h2o.init(ip = \"localhost\", nthreads = -1, port = 54321, max_mem_size = \"6G\", : H2O failed to start, stopping execution.\nTraceback:\n",
      "1. h2o.init(ip = \"localhost\", nthreads = -1, port = 54321, max_mem_size = \"6G\", \n .     startH2O = TRUE, https = FALSE)",
      "2. stop(\"H2O failed to start, stopping execution.\")"
     ]
    }
   ],
   "source": [
    "err = as.data.frame(cbind(seq(20,400,20),reconstruction.train.error))\n",
    "colnames(err) = c(\"Neurons\",\"Error\")"
   ]
  },
  {
   "cell_type": "code",
   "execution_count": null,
   "metadata": {},
   "outputs": [],
   "source": [
    "ggplot(data = error, aes(x = Neurons, y = Error)) + geom_line()"
   ]
  },
  {
   "cell_type": "markdown",
   "metadata": {},
   "source": [
    "## Three Layer Neural Network "
   ]
  },
  {
   "cell_type": "code",
   "execution_count": null,
   "metadata": {},
   "outputs": [],
   "source": [
    "ctr = 1\n",
    "for (k in seq(20, 500, 20)){\n",
    "  \n",
    "Neural_netwrk <- h2o.deeplearning(\n",
    "x = 2:ncol(labelled.frame),\n",
    "    y = 1,\n",
    "    training_frame = labeled.frame,\n",
    "    hidden = c(k)\n",
    "    epochs = 50\n",
    "    activation = 'Tanh'\n",
    "    autoencoder = FALSE\n",
    "    l2 = 0.1\n",
    ")\n",
    "    reconstruction.train.error[ctr] = sum(h2o.anomaly(Neural_netwrk,labeled.frame))\n",
    "    ctr = ctr + 1\n",
    "}\n"
   ]
  },
  {
   "cell_type": "code",
   "execution_count": null,
   "metadata": {},
   "outputs": [],
   "source": [
    "cl_err <- as.data.frame(cbind(seq(20,400,20), classification.test.error))\n",
    "colnames(cl_err) = c(\"Neurons\",\"Error\")"
   ]
  },
  {
   "cell_type": "code",
   "execution_count": null,
   "metadata": {},
   "outputs": [],
   "source": [
    "ggplot(data = cl_err, aes(x = Neurons, y = Error)) + geom_line(aes(x = Neurons, y = Error, color = \"NN\"))"
   ]
  },
  {
   "cell_type": "markdown",
   "metadata": {},
   "source": [
    "## Previous with new features"
   ]
  },
  {
   "cell_type": "code",
   "execution_count": null,
   "metadata": {},
   "outputs": [],
   "source": [
    "classification.test.error.new <- matrix(NA, nrow=20, ncol=1)\n",
    "classification.test.error.org <- matrix(NA, nrow=20, ncol=1)"
   ]
  },
  {
   "cell_type": "code",
   "execution_count": null,
   "metadata": {},
   "outputs": [],
   "source": [
    "ctr = 1\n",
    "for (i in seq(20,400,20)){\n",
    "    Neural_netwrk_auto <- h2o.deeplearning(\n",
    "    x = 1:ncol(train.frame),\n",
    "    training_frame = train.frame,\n",
    "    hidden = c(i)\n",
    "    epochs = 50\n",
    "    activation = 'Tanh'\n",
    "    autoencoder = TRUE\n",
    "    l2 = 0.1\n",
    ")\n",
    "        #Extracting features\n",
    "    labeled.features <- as.matrix(h2o.deeplearning(Neural_netwrk_auto,labeled.frame,layer = 1))\n",
    "    labeled.features.h2o <- as.h2o(labeled.features)\n",
    "    \n",
    "    #Adding features\n",
    "    new.labeled_frame = h2o.cbind(labeled.frame,labeled.features.h2o)\n",
    "    \n",
    "    \n",
    "    #Extracting for test frame\n",
    "    test.features <- as.matrix(h2o.deeplearning(Neural_netwrk_auto,test.frame,layer = 1))\n",
    "    test.features.h2o <- as.h2o(test.features)\n",
    "    \n",
    "    #Adding to test frame\n",
    "    new.test.frame = h2o.cbind(test.frame,test.features.h2o)\n",
    "    \n",
    "    \n",
    "    #Training neural network with more features\n",
    "    Neural_netwrk_additional <- h2o.deeplearning(\n",
    "    x = 2:ncol(new.labeled.frame),\n",
    "    y = 1,\n",
    "    training_frame = new.labeled.frame,\n",
    "        hidden = c(i)\n",
    "        epochs = 50,\n",
    "        activation = 'Tanh',\n",
    "        autoencoder = FALSE,\n",
    "        l2 = 0.1)\n",
    "        \n",
    "        \n",
    "    \n",
    "    test.predict <- h2o.predict(Neural_netwrk_additional, new.test.frame)$predict\n",
    "    classification.test.error.new[ctr] = error.rate(new.test.frame$label,test.predict)\n",
    "    \n",
    "    #Original Neural Network\n",
    "    Neural_netwrk_og <- h2o.deeplearning(\n",
    "    x = 2:ncol(new.labeled.frame),\n",
    "    y = 1,\n",
    "    training_frame = new.labeled.frame,\n",
    "        hidden = c(i)\n",
    "        epochs = 50,\n",
    "        activation = 'Tanh',\n",
    "        autoencoder = FALSE,\n",
    "        l2 = 0.1)\n",
    "    \n",
    "    test.predict <- h2o.predict( Neural_netwrk_og,test.frame)$predict\n",
    "    classification.test.error.org[ctr] = error.rate(test.frame$label , test.predict)\n",
    "    \n",
    "    #update counter\n",
    "    ctr = ctr + 1\n",
    "    \n",
    "    \n",
    "}"
   ]
  },
  {
   "cell_type": "code",
   "execution_count": null,
   "metadata": {},
   "outputs": [],
   "source": [
    "errors_cmbo <- as.data.frame(cbind(seq(20,400,20),classification.test.error.new,classification.test.error.org))\n",
    "colnames(errors_cmbo) <- c(\"K\", \"SelfTaught_NN\" , \"Neural_Network\")"
   ]
  },
  {
   "cell_type": "code",
   "execution_count": null,
   "metadata": {},
   "outputs": [],
   "source": [
    "ggplot(data = errors_cmbo) + geom_line(aes(x = K, y = Neural_Network , color = \"Neural_Network\" )) geom_line(aes(x = K, y = SelfTaught_NN,color = \"SelfTaught_NN\")) + theme_minimal()"
   ]
  }
 ],
 "metadata": {
  "kernelspec": {
   "display_name": "R",
   "language": "R",
   "name": "ir"
  },
  "language_info": {
   "codemirror_mode": "r",
   "file_extension": ".r",
   "mimetype": "text/x-r-source",
   "name": "R",
   "pygments_lexer": "r",
   "version": "3.6.1"
  }
 },
 "nbformat": 4,
 "nbformat_minor": 2
}
